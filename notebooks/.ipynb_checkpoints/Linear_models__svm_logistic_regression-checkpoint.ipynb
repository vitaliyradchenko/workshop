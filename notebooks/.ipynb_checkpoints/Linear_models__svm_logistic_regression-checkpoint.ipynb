{
 "cells": [
  {
   "cell_type": "markdown",
   "metadata": {},
   "source": [
    "# Linear Models (SVM, Logistic Regression)"
   ]
  },
  {
   "cell_type": "markdown",
   "metadata": {},
   "source": [
    "## Table of Contents\n",
    "\n",
    "\n",
    "[Requirements](#Requirements)  \n",
    "[Classification for Sentiment Analysis](#Classification-for-Sentiment-Analysis)  \n",
    "\n",
    "[SVM](#SVM)  \n",
    "[Model overview](#SVM-Model-overview)  \n",
    "[Proc and Cons](#SVM-Proc-and-Cons)  \n",
    "[Main params](#SVM-Main-params)  \n",
    "[Practice](#SVM-Practice)  \n",
    "[Useful links](#SVM-Useful-links)  \n",
    "[Task](#SVM-Task)  \n",
    "\n",
    "[Logistic Regression](#Logistic-Regression)  \n",
    "[Model overview](#LR-Model-overview)  \n",
    "[Proc and Cons](#LR-Proc-and-Cons)  \n",
    "[Main params](#LR-Main-params)  \n",
    "[Practice](#LR-Practice)  \n",
    "[Useful links](#LR-Useful-links)  \n",
    "[Task](#LR-Task)  \n",
    "\n",
    "[Logistic Regression vs SVM](#LR-vs-SVM)  "
   ]
  },
  {
   "cell_type": "markdown",
   "metadata": {},
   "source": [
    "## Requirements\n",
    "\n",
    "\n",
    "1. Python 3.x (or Anaconda3 for Python 3.5, https://www.continuum.io/downloads)\n",
    "2. Scikit-learn 0.18.x (pip install scikit-learn==0.18.1, http://scikit-learn.org/)\n",
    "3. NLTK lib latest (http://www.nltk.org/install.html)\n",
    "4. Pandas latest (http://pandas.pydata.org/)\n",
    "5. For datasets more than 1M reviews min Hardware Requirements (SDRAM >= 8 GB)\n",
    "\n",
    "[To the table of contents](#Table-of-Contents)"
   ]
  },
  {
   "cell_type": "markdown",
   "metadata": {},
   "source": [
    "# Classification for Sentiment Analysis\n",
    "\n",
    "\n",
    "Main tasks:\n",
    "- supervised learning\n",
    "- focus on the binary classification problem in which y can take on only two values, 0 and 1.\n",
    "- predict sentiment of users review text\n",
    "\n",
    "We are trying to build a sentiment classifier for users reviews about movies (consumers goods, books, etc.),  \n",
    "then x(i) may be some features of user review, and y may be 1 if it is a piece of spam mail, and 0 otherwise.  \n",
    "0 is also called the negative class, and 1 the positive class,  \n",
    "and they are sometimes also denoted by the symbols “-” and “+.” Given x (i) ,  \n",
    "the corresponding y (i) is also called the label for the training example.\n",
    "\n",
    "\n",
    "[To the table of contents](#Table-of-Contents)  "
   ]
  },
  {
   "cell_type": "markdown",
   "metadata": {},
   "source": [
    "# SVM  "
   ]
  },
  {
   "cell_type": "markdown",
   "metadata": {},
   "source": [
    "## sklearn.svm.LinearSVC  \n",
    "\n",
    "### SVM Model overview  \n",
    "\n",
    "\n",
    "A Support Vector Machine (SVM) is a supervised machine learning algorithm.\n",
    "\n",
    "SVMs are more commonly used in classification problems.\n",
    "\n",
    "SVMs are based on the idea of finding a hyperplane that best divides a dataset into two classes.\n",
    "\n",
    "<img src=\"../pictures/svm_intro.png\" alt=\"logistic\" style=\"width: 100%;\"/>\n",
    "\n",
    "\n",
    "** Support Vectors **\n",
    "\n",
    "Support vectors are the data points nearest to the hyperplane, the points of a data set that, if removed, would alter the position of the dividing hyperplane. Because of this, they can be considered the critical elements of a data set.\n",
    "What is a hyperplane?\n",
    "\n",
    " \n",
    "As a simple example, for a classification task with only two features (like the image above), you can think of a hyperplane as a line that linearly separates and classifies a set of data.\n",
    "\n",
    "Intuitively, the further from the hyperplane our data points lie, the more confident we are that they have been correctly classified. We therefore want our data points to be as far away from the hyperplane as possible, while still being on the correct side of it.\n",
    "\n",
    "So when new testing data is added, whatever side of the hyperplane it lands will decide the class that we assign to it.\n",
    "\n",
    "\n",
    "** How do we find the right hyperplane? **\n",
    "\n",
    "\n",
    "Or, in other words, how do we best segregate the two classes within the data?\n",
    "\n",
    "The distance between the hyperplane and the nearest data point from either set is known as the margin. The goal is to choose a hyperplane with the greatest possible margin between the hyperplane and any point within the training set, giving a greater chance of new data being classified correctly.\n",
    "\n",
    "<img src=\"../pictures/svm_margins.png\" alt=\"logistic\" style=\"width: 70%;\"/>\n",
    "\n",
    "\n",
    "** But what happens when there is no clear hyperplane? **  \n",
    "\n",
    "This is where it can get tricky. Data is rarely ever as clean as our simple example above.  \n",
    "A dataset will often look more like the jumbled balls below which represent a linearly non separable dataset.  \n",
    "In order to classify a dataset like the one above it’s necessary to move away from a 2d view of the data to a 3d view.  \n",
    "\n",
    "Imagine that our two sets of colored balls above are sitting on a sheet and this sheet is lifted suddenly, launching the balls into the air. While the balls are up in the air, you use the sheet to separate them. This ‘lifting’ of the balls represents the mapping of data into a higher dimension. This is known as kernelling. \n",
    "\n",
    "<img src=\"../pictures/svm_kerneling.png\" alt=\"logistic\" style=\"width: 70%;\"/>\n",
    "\n",
    "Because we are now in three dimensions, our hyperplane can no longer be a line. It must now be a plane as shown in the example above. The idea is that the data will continue to be mapped into higher and higher dimensions until a hyperplane can be formed to segregate it.\n",
    "\n",
    "\n",
    "** SVM Uses **\n",
    " \n",
    "SVM is used for text classification tasks such as category assignment, detecting spam and sentiment analysis.  \n",
    "It is also commonly used for image recognition challenges, performing particularly well in aspect-based recognition and color-based classification.  \n",
    "SVM also plays a vital role in many areas of handwritten digit recognition, such as postal automation services.\n",
    "\n",
    "\n",
    "[To the table of contents](#Table-of-Contents)"
   ]
  },
  {
   "cell_type": "code",
   "execution_count": null,
   "metadata": {
    "collapsed": false
   },
   "outputs": [],
   "source": [
    "# from IPython.display import YouTubeVideo\n",
    "# YouTubeVideo('you3liCbRZPrZA')"
   ]
  },
  {
   "cell_type": "code",
   "execution_count": null,
   "metadata": {
    "collapsed": true
   },
   "outputs": [],
   "source": []
  },
  {
   "cell_type": "markdown",
   "metadata": {
    "collapsed": true
   },
   "source": [
    "### SVM Proc and Cons\n",
    "\n",
    "** Pros **\n",
    "\n",
    "    + Simple\n",
    "    + Accuracy\n",
    "    + Works well on smaller cleaner datasets\n",
    "    + It can be more efficient because it uses a subset of training points\n",
    "\n",
    "\n",
    "** Cons **\n",
    "    - Isn’t suited to larger datasets as the training time with SVMs can be high (not for LinearSVC)\n",
    "    - Less effective on noisier datasets with overlapping classes\n",
    "\n",
    "\n",
    "\n",
    "[To the table of contents](#Table-of-Contents)"
   ]
  },
  {
   "cell_type": "markdown",
   "metadata": {},
   "source": [
    "### SVM Main params\n",
    "\n",
    "** sklearn.svm.LinearSVC **\n",
    "\n",
    "** C ** : float, default: 1.0  \n",
    "    Inverse of regularization strength; must be a positive float.  \n",
    "    Like in support vector machines, smaller values specify stronger regularization. \n",
    "\n",
    "C: Penalty parameter C of the error term. It also controls the trade off between smooth decision boundary and classifying the training points correctly.\n",
    "    \n",
    "** loss ** : string, ‘hinge’ or ‘squared_hinge’ (default=’squared_hinge’)  \n",
    "    Specifies the loss function. ‘hinge’ is the standard SVM loss (used e.g. by the SVC class) while ‘squared_hinge’ is the square of the hinge loss.\n",
    "\n",
    "** penalty **: string, ‘l1’ or ‘l2’ (default=’l2’)  \n",
    "    Specifies the norm used in the penalization. The ‘l2’ penalty is the standard used in SVC. The ‘l1’ leads to coef_ vectors that are sparse.\n",
    "\n",
    "** tol **: float, optional (default=1e-4)\n",
    "    Tolerance for stopping criteria.s\n",
    "\n",
    "\n",
    "[To the table of contents](#Table-of-Contents)"
   ]
  },
  {
   "cell_type": "markdown",
   "metadata": {},
   "source": [
    "### SVM Practice"
   ]
  },
  {
   "cell_type": "code",
   "execution_count": 1,
   "metadata": {
    "collapsed": true
   },
   "outputs": [],
   "source": [
    "import pandas as pd\n",
    "import re\n",
    "import pickle\n",
    "\n",
    "from sklearn.svm import LinearSVC\n",
    "from sklearn.feature_extraction.text import CountVectorizer, TfidfVectorizer, HashingVectorizer\n",
    "from sklearn.model_selection import train_test_split\n",
    "from sklearn.pipeline import Pipeline\n",
    "from sklearn.metrics import accuracy_score, classification_report\n",
    "from sklearn.utils import shuffle\n",
    "\n",
    "import nltk\n",
    "from nltk.stem import SnowballStemmer\n",
    "from nltk import word_tokenize as nltk_wtknz"
   ]
  },
  {
   "cell_type": "code",
   "execution_count": 2,
   "metadata": {
    "collapsed": true
   },
   "outputs": [],
   "source": [
    "data_rt = pd.read_csv(\"../data/reviews_rt_all.csv\", sep=\"|\")\n",
    "data_imdb = pd.read_csv(\"../data/imdb_small.csv\", sep=\"|\")"
   ]
  },
  {
   "cell_type": "code",
   "execution_count": null,
   "metadata": {
    "collapsed": true
   },
   "outputs": [],
   "source": [
    "data_df = pd.concat([data_rt, data_imdb], ignore_index=True, copy=False)\n",
    "data_df = shuffle(data_df)"
   ]
  },
  {
   "cell_type": "code",
   "execution_count": null,
   "metadata": {
    "collapsed": false
   },
   "outputs": [],
   "source": [
    "print(data_df.shape)"
   ]
  },
  {
   "cell_type": "code",
   "execution_count": null,
   "metadata": {
    "collapsed": false
   },
   "outputs": [],
   "source": [
    "data_df.info()"
   ]
  },
  {
   "cell_type": "code",
   "execution_count": null,
   "metadata": {
    "collapsed": false
   },
   "outputs": [],
   "source": [
    "# df.describe()\n",
    "# df.describe(include=['object'])\n",
    "# df['label'].value_counts()\n",
    "data_df['label'].value_counts(normalize=True)"
   ]
  },
  {
   "cell_type": "code",
   "execution_count": null,
   "metadata": {
    "collapsed": true
   },
   "outputs": [],
   "source": [
    "def tokenize(text):\n",
    "    text = re.sub(\"[^a-zA-Z]\", \" \", text)\n",
    "    word_list = nltk_wtknz(text)\n",
    "    stemmer = SnowballStemmer(\"english\")\n",
    "    stems = [stemmer.stem(word) for word in word_list]\n",
    "    return stems"
   ]
  },
  {
   "cell_type": "code",
   "execution_count": null,
   "metadata": {
    "collapsed": true
   },
   "outputs": [],
   "source": [
    "X_train_rt, X_test_rt, y_train_rt, y_test_rt  = train_test_split(\n",
    "                                                        data_rt.text, \n",
    "                                                        data_rt.label,\n",
    "                                                        test_size=0.2, \n",
    "                                                        random_state=42)"
   ]
  },
  {
   "cell_type": "code",
   "execution_count": null,
   "metadata": {
    "collapsed": true
   },
   "outputs": [],
   "source": [
    "X_train_imdb, X_test_imdb, y_train_imdb, y_test_imdb  = train_test_split(\n",
    "                                                        data_imdb.text, \n",
    "                                                        data_imdb.label,\n",
    "                                                        test_size=0.2, \n",
    "                                                        random_state=42)"
   ]
  },
  {
   "cell_type": "code",
   "execution_count": null,
   "metadata": {
    "collapsed": true
   },
   "outputs": [],
   "source": [
    "X_train = pd.concat([X_train_rt, X_train_imdb])\n",
    "X_test = pd.concat([X_test_rt, X_test_imdb])\n",
    "y_train = pd.concat([y_train_rt, y_train_imdb])\n",
    "y_test = pd.concat([y_test_rt, y_test_imdb])"
   ]
  },
  {
   "cell_type": "code",
   "execution_count": null,
   "metadata": {
    "collapsed": true
   },
   "outputs": [],
   "source": [
    "pipeline = Pipeline([('vectorizer', TfidfVectorizer(tokenizer=tokenize,\n",
    "                                                    ngram_range=(1, 3),\n",
    "                                                    analyzer = 'word',\n",
    "                                                    binary = True,\n",
    "                                                    max_df = 0.75)),\n",
    "                     ('classifier', LinearSVC(C=100))])"
   ]
  },
  {
   "cell_type": "code",
   "execution_count": null,
   "metadata": {
    "collapsed": true
   },
   "outputs": [],
   "source": [
    "model = pipeline.fit(X=X_train, y=y_train)"
   ]
  },
  {
   "cell_type": "code",
   "execution_count": null,
   "metadata": {
    "collapsed": true
   },
   "outputs": [],
   "source": [
    "y_pred = model.predict(X_test)\n",
    "\n",
    "print(accuracy_score(y_test, y_pred))\n",
    "print(classification_report(y_test, y_pred))"
   ]
  },
  {
   "cell_type": "code",
   "execution_count": null,
   "metadata": {
    "collapsed": true
   },
   "outputs": [],
   "source": [
    "y_pred = model.predict(X_test_rt)\n",
    "\n",
    "print (accuracy_score(y_test_rt, y_pred))\n",
    "print(classification_report(y_test_rt, y_pred))"
   ]
  },
  {
   "cell_type": "code",
   "execution_count": null,
   "metadata": {
    "collapsed": true
   },
   "outputs": [],
   "source": [
    "y_pred = model.predict(X_test_imdb)\n",
    "\n",
    "print (accuracy_score(y_test_imdb, y_pred))\n",
    "print(classification_report(y_test_imdb, y_pred))"
   ]
  },
  {
   "cell_type": "code",
   "execution_count": null,
   "metadata": {
    "collapsed": true
   },
   "outputs": [],
   "source": [
    "# with open('../dumps/m_lin_svc_mix_out2.pkl', 'wb') as f:\n",
    "#     pickle.dump(pipeline, f)"
   ]
  },
  {
   "cell_type": "code",
   "execution_count": null,
   "metadata": {
    "collapsed": true
   },
   "outputs": [],
   "source": [
    "df = pd.read_csv(\"../data/test.csv\", sep=\"|\")"
   ]
  },
  {
   "cell_type": "code",
   "execution_count": null,
   "metadata": {
    "collapsed": true
   },
   "outputs": [],
   "source": [
    "print(df.shape)"
   ]
  },
  {
   "cell_type": "code",
   "execution_count": null,
   "metadata": {
    "collapsed": true
   },
   "outputs": [],
   "source": [
    "df.info()"
   ]
  },
  {
   "cell_type": "code",
   "execution_count": null,
   "metadata": {
    "collapsed": true
   },
   "outputs": [],
   "source": [
    "df['label'].value_counts(normalize=True)"
   ]
  },
  {
   "cell_type": "code",
   "execution_count": null,
   "metadata": {
    "collapsed": true
   },
   "outputs": [],
   "source": [
    "# with open('../dumps/m_lin_svc_mix_out.pkl', 'rb') as f:\n",
    "#     model = pickle.load(f)"
   ]
  },
  {
   "cell_type": "code",
   "execution_count": null,
   "metadata": {
    "collapsed": true
   },
   "outputs": [],
   "source": [
    "y_predicted = model.predict(df['text'])"
   ]
  },
  {
   "cell_type": "code",
   "execution_count": null,
   "metadata": {
    "collapsed": true
   },
   "outputs": [],
   "source": [
    "print(accuracy_score(df['label'], y_predicted))\n",
    "print(classification_report(df['label'], y_predicted))"
   ]
  },
  {
   "cell_type": "code",
   "execution_count": null,
   "metadata": {
    "collapsed": true
   },
   "outputs": [],
   "source": []
  },
  {
   "cell_type": "markdown",
   "metadata": {},
   "source": [
    "### SVM Useful links\n",
    "\n",
    "http://cs229.stanford.edu/materials.html  \n",
    "http://scikit-learn.org/stable/modules/generated/sklearn.svm.LinearSVC.html  \n",
    "https://www.csie.ntu.edu.tw/~cjlin/liblinear/  \n",
    "http://www.kdnuggets.com/2016/07/support-vector-machines-simple-explanation.html  \n"
   ]
  },
  {
   "cell_type": "markdown",
   "metadata": {},
   "source": [
    "### SVM Task\n",
    "\n"
   ]
  },
  {
   "cell_type": "markdown",
   "metadata": {
    "collapsed": true
   },
   "source": [
    "[To the table of contents](#Table-of-Contents)"
   ]
  },
  {
   "cell_type": "markdown",
   "metadata": {},
   "source": [
    "# LR vs SVM  \n",
    "\n",
    "In practical classification tasks, linear logistic regression and linear SVMs often yield very similar results.  \n",
    "** Logistic regression ** tries to maximize the conditional likelihoods of the training data, which makes it more prone to outliers than SVMs.  \n",
    "** The SVMs ** mostly care about the points that are closest to the decision boundary (support vectors). \n",
    "\n",
    "On the other hand, logistic regression has the advantage that it is a simpler model that can be implemented more easily.   Furthermore, logistic regression models can be easily updated, which is attractive when working with streaming data.\n",
    "\n",
    "\n",
    "[To the table of contents](#Table-of-Contents)"
   ]
  },
  {
   "cell_type": "markdown",
   "metadata": {},
   "source": [
    "# Logistic Regression  "
   ]
  },
  {
   "cell_type": "markdown",
   "metadata": {},
   "source": [
    "### LR Model overview  \n",
    "\n",
    "Logistic regression is a linear model for classification rather than regression.  \n",
    "Logistic regression is also known in the literature as logit regression, maximum-entropy classification (MaxEnt) or the log-linear classifier.  \n",
    "In this model, the probabilities describing the possible outcomes of a single trial are modeled using a logistic function (sigmoid function).  \n",
    "\n",
    "<img src=\"../pictures/sphx_glr_plot_logistic_001.png\" alt=\"logistic\" style=\"width: 70%;\"/>\n",
    "\n",
    "Decision boundary “separates” variable space into two decision regions.\n",
    "Linear regression not advised for classification. First, it is sensitive to outliers/skewed data sets.\n",
    "\n",
    "We will focus on ** sklearn.linear_model.LogisticRegression ** (liblinear)\n",
    "This class implements regularized logistic regression using the \"liblinear\" library.\n",
    "\n",
    "\n",
    "[To the table of contents](#Table-of-Contents)"
   ]
  },
  {
   "cell_type": "markdown",
   "metadata": {},
   "source": [
    "### LR Proc and Cons\n",
    "\n",
    "** Pros **\n",
    "\n",
    "    + simple\n",
    "    + good scaling for huge data\n",
    "    + fast\n",
    "    + good for stream dataprocessings\n",
    "\n",
    "** Cons **\n",
    "    - not for non-linear data\n",
    "    - C param from superviser\n",
    "\n",
    "[To the table of contents](#Table-of-Contents)"
   ]
  },
  {
   "cell_type": "markdown",
   "metadata": {},
   "source": [
    "### LR Main params\n",
    "\n",
    "** C ** : float, default: 1.0  \n",
    "    Inverse of regularization strength; must be a positive float.  \n",
    "    Like in support vector machines, smaller values specify stronger regularization.  \n",
    "\n",
    "** class_weight **: dict or ‘balanced’, default: None\n",
    "    Weights associated with classes in the form {class_label: weight}.  \n",
    "    If not given, all classes are supposed to have weight one.\n",
    "\n",
    "** solver **: {‘newton-cg’, ‘lbfgs’, ‘liblinear’, ‘sag’}, default: ‘liblinear’\n",
    "    Algorithm to use in the optimization problem.\n",
    "        For small datasets, ‘liblinear’ is a good choice, whereas ‘sag’ is\n",
    "            faster for large ones.\n",
    "        For multiclass problems, only ‘newton-cg’, ‘sag’ and ‘lbfgs’ handle\n",
    "            multinomial loss; ‘liblinear’ is limited to one-versus-rest schemes.\n",
    "\n",
    "** tol **: float, default: 1e-4\n",
    "    Tolerance for stopping criteria.\n",
    "\n",
    "\n",
    "** n_jobs ** : int, default: 1\n",
    "    Number of CPU cores used during the cross-validation loop. If given a value of -1, all cores are used.\n",
    "\n",
    "\n",
    "[To the table of contents](#Table-of-Contents)"
   ]
  },
  {
   "cell_type": "markdown",
   "metadata": {},
   "source": [
    "### LR Practice"
   ]
  },
  {
   "cell_type": "code",
   "execution_count": null,
   "metadata": {
    "collapsed": true
   },
   "outputs": [],
   "source": []
  },
  {
   "cell_type": "code",
   "execution_count": null,
   "metadata": {
    "collapsed": true
   },
   "outputs": [],
   "source": []
  },
  {
   "cell_type": "code",
   "execution_count": null,
   "metadata": {
    "collapsed": true
   },
   "outputs": [],
   "source": []
  },
  {
   "cell_type": "code",
   "execution_count": null,
   "metadata": {
    "collapsed": true
   },
   "outputs": [],
   "source": []
  },
  {
   "cell_type": "markdown",
   "metadata": {},
   "source": [
    "### LR Useful links\n",
    "\n",
    "http://cs229.stanford.edu/materials.html  \n",
    "http://scikit-learn.org/stable/modules/generated/sklearn.linear_model.LogisticRegression.html  \n",
    "https://habrahabr.ru/company/ods/blog/323890/  \n"
   ]
  },
  {
   "cell_type": "markdown",
   "metadata": {},
   "source": [
    "### LR Task\n",
    "\n"
   ]
  },
  {
   "cell_type": "markdown",
   "metadata": {},
   "source": [
    "[To the table of contents](#Table-of-Contents)"
   ]
  },
  {
   "cell_type": "code",
   "execution_count": null,
   "metadata": {
    "collapsed": true
   },
   "outputs": [],
   "source": []
  }
 ],
 "metadata": {
  "anaconda-cloud": {},
  "kernelspec": {
   "display_name": "Python 3",
   "language": "python",
   "name": "python3"
  },
  "language_info": {
   "codemirror_mode": {
    "name": "ipython",
    "version": 3
   },
   "file_extension": ".py",
   "mimetype": "text/x-python",
   "name": "python",
   "nbconvert_exporter": "python",
   "pygments_lexer": "ipython3",
   "version": "3.5.2"
  }
 },
 "nbformat": 4,
 "nbformat_minor": 2
}
